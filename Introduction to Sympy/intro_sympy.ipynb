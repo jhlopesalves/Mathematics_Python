{
 "cells": [
  {
   "cell_type": "markdown",
   "id": "711113e1",
   "metadata": {},
   "source": [
    "## Symbolic vs. Numeric Thinking\n",
    "#### Symbolic Computation\n",
    "- Definition: Manipulation of exact mathematical expressions in their abstract, algebraic form.\n",
    "Example: The solution of $ax + b = 0$ is $x = -\\frac{b}{a}$, regardless of the specific values of $a$ and $b$.\n",
    "- Tool: SymPy.\n",
    "\n",
    "#### Numeric Computation\n",
    "- Definition: Approximation of quantities using finite-precision representations.\n",
    "Example: Computing $\\sqrt{2} \\approx 1.41421356$ or estimating an integral numerically.\n",
    "- Tool: NumPy, SciPy.\n",
    "\n",
    "These two approaches reflect two modes of mathematical thought:\n",
    "\n",
    "1) The **logical** (symbolic) mode: analytic, precise, general.\n",
    "\n",
    "2) The **computational** (numeric) mode: approximate, iterative, pragmatic.\n",
    "\n",
    "#### Python Libraries for Mathematical Computing\n",
    "\n",
    "**SymPy** provides symbolic mathematics capabilities, allowing exact manipulation of mathematical expressions, symbolic differentiation/integration, equation solving, and algebraic simplification without numerical approximation.\n",
    "[SymPy Documentation](https://docs.sympy.org/)\n",
    "\n",
    "**NumPy** offers fundamental numerical computing with multi-dimensional arrays, linear algebra operations, Fourier transforms, and basic mathematical functions using floating-point arithmetic.\n",
    "[NumPy Documentation](https://numpy.org/doc/)\n",
    "\n",
    "**SciPy** extends NumPy with advanced scientific computing tools including optimization, interpolation, signal processing, statistical functions, and specialized numerical algorithms.\n",
    "[SciPy Documentation](https://docs.scipy.org/)"
   ]
  },
  {
   "cell_type": "code",
   "execution_count": 10,
   "id": "1970b6d9",
   "metadata": {},
   "outputs": [],
   "source": [
    "import matplotlib.pyplot as plt \n",
    "import seaborn as sns\n",
    "import numpy as np   \n",
    "import scipy as sp   \n",
    "from IPython.display import display, Math  # Enhanced display formatting for Jupyter outputs\n",
    "import sympy as sym \n",
    "sym.init_printing()  # Enable pretty mathematical notation display"
   ]
  },
  {
   "cell_type": "code",
   "execution_count": null,
   "id": "852cd9b6",
   "metadata": {},
   "outputs": [
    {
     "data": {
      "image/png": "[encoded data removed]",
      "text/latex": [
       "$\\displaystyle x$"
      ],
      "text/plain": [
       "x"
      ]
     },
     "execution_count": 5,
     "metadata": {},
     "output_type": "execute_result"
    }
   ],
   "source": [
    "x, y = sym.symbols('x y')  \n",
    "x"
   ]
  },
  {
   "cell_type": "code",
   "execution_count": 9,
   "id": "b38a5dc0",
   "metadata": {},
   "outputs": [
    {
     "data": {
      "image/png": "[encoded data removed]",
      "text/latex": [
       "$\\displaystyle y + 4$"
      ],
      "text/plain": [
       "y + 4"
      ]
     },
     "execution_count": 9,
     "metadata": {},
     "output_type": "execute_result"
    }
   ],
   "source": [
    "y + 4"
   ]
  },
  {
   "cell_type": "code",
   "execution_count": 11,
   "id": "a1b5f6fe",
   "metadata": {},
   "outputs": [
    {
     "data": {
      "image/png": "[encoded data removed]",
      "text/latex": [
       "$\\displaystyle x^{y}$"
      ],
      "text/plain": [
       " y\n",
       "x "
      ]
     },
     "metadata": {},
     "output_type": "display_data"
    },
    {
     "data": {
      "image/png": "[encoded data removed]",
      "text/latex": [
       "$\\displaystyle \\frac{x}{y}$"
      ],
      "text/plain": [
       "x\n",
       "─\n",
       "y"
      ]
     },
     "metadata": {},
     "output_type": "display_data"
    }
   ],
   "source": [
    "display(x**y)\n",
    "display(x/y)"
   ]
  },
  {
   "cell_type": "code",
   "execution_count": 12,
   "id": "e19de646",
   "metadata": {},
   "outputs": [
    {
     "data": {
      "image/png": "[encoded data removed]",
      "text/latex": [
       "$\\displaystyle 1.4142135623731$"
      ],
      "text/plain": [
       "np.float64(1.4142135623730951)"
      ]
     },
     "metadata": {},
     "output_type": "display_data"
    },
    {
     "data": {
      "image/png": "[encoded data removed]",
      "text/latex": [
       "$\\displaystyle \\sqrt{2}$"
      ],
      "text/plain": [
       "√2"
      ]
     },
     "metadata": {},
     "output_type": "display_data"
    }
   ],
   "source": [
    "display(np.sqrt(2))\n",
    "display(sym.sqrt(2))"
   ]
  },
  {
   "cell_type": "markdown",
   "id": "63d0c068",
   "metadata": {},
   "source": [
    "### Sympy Exercises \n",
    "\n",
    "1) $\\quad y \\times x^2$\n",
    "\n",
    "2) $\\quad \\sqrt{4x}$\n",
    "\n",
    "3) $\\quad \\sqrt{x \\sqrt{x}}$\n"
   ]
  },
  {
   "cell_type": "code",
   "execution_count": 19,
   "id": "2e1274b5",
   "metadata": {},
   "outputs": [
    {
     "data": {
      "image/png": "[encoded data removed]",
      "text/latex": [
       "$\\displaystyle x^{2} y$"
      ],
      "text/plain": [
       " 2  \n",
       "x ⋅y"
      ]
     },
     "metadata": {},
     "output_type": "display_data"
    },
    {
     "data": {
      "image/png": "[encoded data removed]",
      "text/latex": [
       "$\\displaystyle 2 \\sqrt{x}$"
      ],
      "text/plain": [
       "2⋅√x"
      ]
     },
     "metadata": {},
     "output_type": "display_data"
    },
    {
     "data": {
      "image/png": "[encoded data removed]",
      "text/latex": [
       "$\\displaystyle x$"
      ],
      "text/plain": [
       "x"
      ]
     },
     "metadata": {},
     "output_type": "display_data"
    }
   ],
   "source": [
    "# Sympy exercises\n",
    "display(y*(x**2))\n",
    "display(sym.sqrt(4*x))\n",
    "display(sym.sqrt(x) * sym.sqrt(x))"
   ]
  },
  {
   "cell_type": "markdown",
   "id": "d334eccd",
   "metadata": {},
   "source": [
    "### Polynomial Expansion and Symbolic Manipulation\n",
    "\n",
    "#### Mathematical Foundation: The Binomial Theorem\n",
    "\n",
    "When we encounter an expression like $(x + 1)^3$, we're looking at a **binomial raised to a power**. The binomial theorem tells us that:\n",
    "\n",
    "$$(a + b)^n = \\sum_{k=0}^{n} \\binom{n}{k} a^{n-k} b^k$$\n",
    "\n",
    "For $(x + 1)^3$, this expands to:\n",
    "$$(x + 1)^3 = \\binom{3}{0}x^3 \\cdot 1^0 + \\binom{3}{1}x^2 \\cdot 1^1 + \\binom{3}{2}x^1 \\cdot 1^2 + \\binom{3}{3}x^0 \\cdot 1^3$$\n",
    "$$= 1 \\cdot x^3 + 3 \\cdot x^2 + 3 \\cdot x + 1 \\cdot 1 = x^3 + 3x^2 + 3x + 1$$\n",
    "\n",
    "#### SymPy's Symbolic Approach\n",
    "\n",
    "**`sym.expand()`** performs algebraic expansion by applying distributive properties and mathematical identities. It transforms compact expressions into their expanded polynomial form, revealing all terms explicitly.\n",
    "\n",
    "**`sym.simplify()`** attempts to reduce expressions to their simplest form using various algebraic rules, trigonometric identities, and mathematical transformations. In this case, since $x^3 + 3x^2 + 3x + 1$ is already in its simplest expanded form, no further simplification occurs.\n",
    "\n",
    "The fact that `expand()` and `simplify()` yield the same result here demonstrates that the expanded form is already the canonical simplified representation of $(x + 1)^3$."
   ]
  },
  {
   "cell_type": "code",
   "execution_count": 7,
   "id": "1c145cd1",
   "metadata": {},
   "outputs": [
    {
     "name": "stdout",
     "output_type": "stream",
     "text": [
      "x**3 + 3*x**2 + 3*x + 1\n",
      "x**3 + 3*x**2 + 3*x + 1\n"
     ]
    }
   ],
   "source": [
    "expr = (x + 1)**3\n",
    "expanded = sym.expand(expr)\n",
    "simplified = sym.simplify(expanded)\n",
    "print(expanded)\n",
    "print(simplified)"
   ]
  },
  {
   "cell_type": "code",
   "execution_count": 8,
   "id": "c738c73f",
   "metadata": {},
   "outputs": [
    {
     "data": {
      "image/png": "[encoded data removed]",
      "text/latex": [
       "$\\displaystyle f{\\left(x \\right)}$"
      ],
      "text/plain": [
       "f(x)"
      ]
     },
     "execution_count": 8,
     "metadata": {},
     "output_type": "execute_result"
    }
   ],
   "source": [
    "f = sym.Function(\"f\")\n",
    "f(x)"
   ]
  },
  {
   "cell_type": "code",
   "execution_count": 10,
   "id": "10f8a796",
   "metadata": {},
   "outputs": [
    {
     "data": {
      "image/png": "[encoded data removed]",
      "text/latex": [
       "$\\displaystyle \\frac{x}{y}$"
      ],
      "text/plain": [
       "x\n",
       "─\n",
       "y"
      ]
     },
     "metadata": {},
     "output_type": "display_data"
    }
   ],
   "source": [
    "display(x/y)"
   ]
  },
  {
   "cell_type": "markdown",
   "id": "fe973992",
   "metadata": {},
   "source": [
    "### Estimate of the square root of two vs the Representation of the square root of two"
   ]
  },
  {
   "cell_type": "code",
   "execution_count": 11,
   "id": "2cfbea2f",
   "metadata": {},
   "outputs": [
    {
     "data": {
      "image/png": "[encoded data removed]",
      "text/latex": [
       "$\\displaystyle 1.4142135623731$"
      ],
      "text/plain": [
       "np.float64(1.4142135623730951)"
      ]
     },
     "metadata": {},
     "output_type": "display_data"
    },
    {
     "data": {
      "image/png": "[encoded data removed]",
      "text/latex": [
       "$\\displaystyle \\sqrt{2}$"
      ],
      "text/plain": [
       "√2"
      ]
     },
     "metadata": {},
     "output_type": "display_data"
    }
   ],
   "source": [
    "display(np.sqrt(2))\n",
    "display(sym.sqrt(2))"
   ]
  },
  {
   "cell_type": "code",
   "execution_count": null,
   "id": "2f1c3d27",
   "metadata": {},
   "outputs": [
    {
     "data": {
      "image/png": "[encoded data removed]",
      "text/latex": [
       "$\\displaystyle x^{2} y$"
      ],
      "text/plain": [
       " 2  \n",
       "x ⋅y"
      ]
     },
     "metadata": {},
     "output_type": "display_data"
    }
   ],
   "source": [
    "# Exercises \n"
   ]
  },
  {
   "cell_type": "code",
   "execution_count": null,
   "id": "3167de2d",
   "metadata": {},
   "outputs": [
    {
     "data": {
      "image/png": "[encoded data removed]",
      "text/latex": [
       "$\\displaystyle 2 x$"
      ],
      "text/plain": [
       "2⋅x"
      ]
     },
     "metadata": {},
     "output_type": "display_data"
    }
   ],
   "source": []
  },
  {
   "cell_type": "code",
   "execution_count": null,
   "id": "0b3fff31",
   "metadata": {},
   "outputs": [
    {
     "data": {
      "image/png": "[encoded data removed]",
      "text/latex": [
       "$\\displaystyle x$"
      ],
      "text/plain": [
       "x"
      ]
     },
     "metadata": {},
     "output_type": "display_data"
    }
   ],
   "source": []
  },
  {
   "cell_type": "code",
   "execution_count": null,
   "id": "d18b7610",
   "metadata": {},
   "outputs": [],
   "source": []
  }
 ],
 "metadata": {
  "kernelspec": {
   "display_name": "math",
   "language": "python",
   "name": "python3"
  },
  "language_info": {
   "codemirror_mode": {
    "name": "ipython",
    "version": 3
   },
   "file_extension": ".py",
   "mimetype": "text/x-python",
   "name": "python",
   "nbconvert_exporter": "python",
   "pygments_lexer": "ipython3",
   "version": "3.12.8"
  }
 },
 "nbformat": 4,
 "nbformat_minor": 5
}
