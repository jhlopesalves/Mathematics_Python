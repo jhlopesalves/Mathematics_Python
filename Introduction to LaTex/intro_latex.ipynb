{
 "cells": [
  {
   "cell_type": "markdown",
   "id": "57fb49c0",
   "metadata": {},
   "source": [
    "# Introduction to LaTeX Mathematical Notation\n",
    "\n",
    "LaTeX is a document preparation system and markup language widely used for typesetting mathematical and scientific documents. \n",
    "\n",
    "It is based on the TeX typesetting system, which was created by Donald Knuth in the late 1970s. LaTeX allows authors to focus on the content of their documents while it handles the formatting and layout.\n",
    "\n",
    "LaTeX (pronounced \"LAH-tek\" or \"LAY-tek\") provides deterministic control over symbol placement, sizing, and formatting.\n"
   ]
  },
  {
   "cell_type": "code",
   "execution_count": 1,
   "id": "05a32b4f",
   "metadata": {},
   "outputs": [],
   "source": [
    "import sympy as sym\n",
    "import numpy as np\n",
    "from IPython.display import display, Math"
   ]
  },
  {
   "cell_type": "markdown",
   "id": "900993a9",
   "metadata": {},
   "source": [
    "## Basic Arithmetic Operations\n",
    "\n",
    "Mathematical expressions require precise notation for fundamental operations. LaTeX provides specific commands for common arithmetic operators to ensure consistent rendering across different contexts.\n",
    "\n",
    "The basic operators include:\n",
    "- Addition (`+`) and subtraction (`-`) use standard symbols\n",
    "- Multiplication employs `\\times` for the multiplication symbol (×)\n",
    "- Division uses `\\frac{numerator}{denominator}` for proper fraction formatting\n",
    "- Equality and relational operators render directly\n"
   ]
  },
  {
   "cell_type": "code",
   "execution_count": 2,
   "id": "05bc0d68",
   "metadata": {},
   "outputs": [
    {
     "data": {
      "text/latex": [
       "$\\displaystyle 4+3=7$"
      ],
      "text/plain": [
       "<IPython.core.display.Math object>"
      ]
     },
     "metadata": {},
     "output_type": "display_data"
    },
    {
     "data": {
      "text/latex": [
       "$\\displaystyle 15 - 8 = 7$"
      ],
      "text/plain": [
       "<IPython.core.display.Math object>"
      ]
     },
     "metadata": {},
     "output_type": "display_data"
    },
    {
     "data": {
      "text/latex": [
       "$\\displaystyle 3 \\times 4 = 12$"
      ],
      "text/plain": [
       "<IPython.core.display.Math object>"
      ]
     },
     "metadata": {},
     "output_type": "display_data"
    },
    {
     "data": {
      "text/latex": [
       "$\\displaystyle \\frac{15}{3} = 5$"
      ],
      "text/plain": [
       "<IPython.core.display.Math object>"
      ]
     },
     "metadata": {},
     "output_type": "display_data"
    },
    {
     "data": {
      "text/latex": [
       "$\\displaystyle \\sigma = \\mu \\times \\sqrt{5x+3z-17u}$"
      ],
      "text/plain": [
       "<IPython.core.display.Math object>"
      ]
     },
     "metadata": {},
     "output_type": "display_data"
    }
   ],
   "source": [
    "# Basic arithmetic expressions\n",
    "display(Math('4+3=7'))\n",
    "display(Math('15 - 8 = 7'))\n",
    "display(Math('3 \\\\times 4 = 12'))\n",
    "display(Math('\\\\frac{15}{3} = 5'))\n",
    "\n",
    "# Example with Greek letters and radicals\n",
    "display(Math(\"\\\\sigma = \\\\mu \\\\times \\\\sqrt{5x+3z-17u}\"))"
   ]
  },
  {
   "cell_type": "markdown",
   "id": "9c2a36c4",
   "metadata": {},
   "source": [
    "## Square Roots and Radical Expressions\n",
    "\n",
    "Radical notation requires specific LaTeX commands to ensure proper rendering. The system provides two primary constructs:\n",
    "\n",
    "- `\\sqrt{expression}` generates square roots\n",
    "- `\\sqrt[n]{expression}` generates nth roots with explicit index\n",
    "\n",
    "The radical symbol automatically scales to accommodate the enclosed expression's height and complexity."
   ]
  },
  {
   "cell_type": "code",
   "execution_count": null,
   "id": "20a0582d",
   "metadata": {
    "vscode": {
     "languageId": "r"
    }
   },
   "outputs": [
    {
     "data": {
      "text/latex": [
       "$\\displaystyle x_{mm} + y^{n+2k-15}$"
      ],
      "text/plain": [
       "<IPython.core.display.Math object>"
      ]
     },
     "metadata": {},
     "output_type": "display_data"
    }
   ],
   "source": [
    "# Square roots and radical expressions examples\n",
    "display(Math(\"\\\\sqrt{16} = 4\"))  # Basic square root\n",
    "display(Math(\"\\\\sqrt{x^2} = |x|\"))  # Square root with variable\n",
    "display(Math(\"\\\\sqrt{a + b}\"))  # Square root of sum\n",
    "display(Math(\"\\\\sqrt{\\\\frac{x}{y}} = \\\\frac{\\\\sqrt{x}}{\\\\sqrt{y}}\"))  # Square root of fraction\n",
    "display(Math(\"\\\\sqrt[3]{27} = 3\"))  # Cube root\n",
    "display(Math(\"\\\\sqrt[4]{16} = 2\"))  # Fourth root\n",
    "display(Math(\"\\\\sqrt[n]{x^n} = |x|\"))  # General nth root\n",
    "display(Math(\"\\\\sqrt{x} \\\\cdot \\\\sqrt{y} = \\\\sqrt{xy}\"))  # Product rule for radicals\n",
    "display(Math(\"\\\\sqrt{\\\\sqrt{x}} = \\\\sqrt[4]{x}\"))  # Nested radicals\n",
    "display(Math(\"\\\\sqrt{x^2 + 2xy + y^2} = \\\\sqrt{(x+y)^2} = |x+y|\"))  # Complex radical simplification"
   ]
  },
  {
   "cell_type": "markdown",
   "id": "59eac181",
   "metadata": {},
   "source": [
    "**Subscript and Superscript Syntax:**\n",
    "- `_` creates subscripts: `x_1` renders as x₁\n",
    "- `^` creates superscripts: `x^2` renders as x²\n",
    "- Use braces `{}` for multi-character subscripts/superscripts: `x_{12}` or `x^{n+1}`\n",
    "- Subscripts and superscripts can be combined: `x_i^2`\n",
    "- For complex expressions, always use braces to group terms properly\n",
    "\n",
    "## Subscripts and Superscripts\n",
    "\n",
    "Subscript and superscript notation uses specific character operators:\n",
    "\n",
    "- `_` creates subscripts: `x_1` renders as x₁\n",
    "- `^` creates superscripts: `x^2` renders as x²\n",
    "- Braces `{}` group multi-character expressions: `x_{12}` or `x^{n+1}`\n",
    "- Both operators can be combined: `x_i^2`\n",
    "- Complex expressions require proper grouping with braces\n",
    "\n",
    "**Syntax requirements:**\n",
    "- Single characters do not require braces\n",
    "- Multi-character subscripts/superscripts must use braces\n",
    "- Nested expressions require careful brace placement\n",
    "\n",
    "## Essential Greek Letters in Mathematics\n",
    "\n",
    "Greek letters are an indispensable part of the mathematical language, representing constants (like $\\pi$ or $e$), variables (common for angles like $\\theta$ or $\\phi$), functions, and operators. From alpha (α) to omega (ω), knowing how to typeset these letters is key. LaTeX provides simple commands for both lowercase (e.g., `\\alpha`) and uppercase (e.g., `\\Gamma`) Greek letters. Note that some uppercase Greek letters look identical to their Latin counterparts, so their commands are not always needed (e.g., uppercase Alpha is just 'A')."
   ]
  },
  {
   "cell_type": "code",
   "execution_count": 3,
   "id": "60adbcb1",
   "metadata": {},
   "outputs": [
    {
     "data": {
      "text/latex": [
       "$\\displaystyle \\text{The answer to this question is }\\frac{1+x}{2v-s^{t+4r}}$"
      ],
      "text/plain": [
       "<IPython.core.display.Math object>"
      ]
     },
     "metadata": {},
     "output_type": "display_data"
    }
   ],
   "source": [
    "display(Math((\"\\\\text{The answer to this question is }\\\\frac{1+x}{2v-s^{t+4r}}\")))"
   ]
  },
  {
   "cell_type": "markdown",
   "id": "a83debdd",
   "metadata": {},
   "source": [
    "**Fractions and Text Integration**\n",
    "\n",
    "Fraction notation requires the `\\frac{numerator}{denominator}` command for proper mathematical formatting. This command automatically adjusts sizing based on context (inline vs. display mode).\n",
    "\n",
    "Text integration within mathematical expressions uses the `\\text{...}` command to:\n",
    "- Render text in upright font (non-italicized)\n",
    "- Maintain proper spacing around text elements\n",
    "- Preserve readability in mixed mathematical/textual expressions\n",
    "\n",
    "**Advanced fraction techniques:**\n",
    "- Nested fractions: `\\frac{\\frac{a}{b}}{\\frac{c}{d}}`\n",
    "- Continued fractions using recursive `\\frac` commands\n",
    "- Inline fractions with `/` for simple expressions when appropriate\n",
    "\n",
    "## Crafting Subscripts and Superscripts\n",
    "\n",
    "Subscripts and superscripts are ubiquitous in mathematics, used for indexing variables (e.g., $x_i$), denoting powers (e.g., $a^2$), and much more. LaTeX makes it straightforward to create these, using the `_` character for subscripts and `^` for superscripts. For more complex subscripts or superscripts involving multiple characters or expressions, braces `{}` are essential to group them correctly (e.g., `x_{n+1}` or `y^{2k-1}`)."
   ]
  },
  {
   "cell_type": "code",
   "execution_count": 4,
   "id": "7bba0ec1",
   "metadata": {},
   "outputs": [
    {
     "data": {
      "text/latex": [
       "$\\displaystyle \\sqrt{x}\\sqrt{x}$"
      ],
      "text/plain": [
       "<IPython.core.display.Math object>"
      ]
     },
     "metadata": {},
     "output_type": "display_data"
    },
    {
     "data": {
      "text/latex": [
       "$\\displaystyle \\sqrt{x^2 + y^2}$"
      ],
      "text/plain": [
       "<IPython.core.display.Math object>"
      ]
     },
     "metadata": {},
     "output_type": "display_data"
    },
    {
     "data": {
      "text/latex": [
       "$\\displaystyle \\sqrt[3]{8} = 2$"
      ],
      "text/plain": [
       "<IPython.core.display.Math object>"
      ]
     },
     "metadata": {},
     "output_type": "display_data"
    },
    {
     "data": {
      "text/latex": [
       "$\\displaystyle \\sqrt[n]{x^n} = x$"
      ],
      "text/plain": [
       "<IPython.core.display.Math object>"
      ]
     },
     "metadata": {},
     "output_type": "display_data"
    }
   ],
   "source": [
    "# Square roots and radicals\n",
    "display(Math(\"\\\\sqrt{x}\\\\sqrt{x}\"))  # Product of square roots\n",
    "display(Math(\"\\\\sqrt{x^2 + y^2}\"))    # Square root of sum of squares\n",
    "display(Math(\"\\\\sqrt[3]{8} = 2\"))      # Cube root\n",
    "display(Math(\"\\\\sqrt[n]{x^n} = x\"))    # General nth root"
   ]
  },
  {
   "cell_type": "markdown",
   "id": "5ba23c1d",
   "metadata": {},
   "source": [
    "## Calculus Notation\n",
    "\n",
    "Calculus expressions require specialized notation for derivatives, integrals, and limits. LaTeX provides comprehensive support for these constructs:\n",
    "\n",
    "**Integral notation:**\n",
    "- Definite integrals: `\\int_a^b f(x)dx`\n",
    "- Indefinite integrals: `\\int f(x)dx`\n",
    "- Multiple integrals: `\\iint`, `\\iiint`\n",
    "\n",
    "**Derivative notation:**\n",
    "- Ordinary derivatives: `\\frac{df}{dx}`\n",
    "- Partial derivatives: `\\frac{\\partial f}{\\partial x}`\n",
    "- Higher-order derivatives: `\\frac{\\partial^2 f}{\\partial x \\partial y}`\n",
    "\n",
    "**Limit notation:**\n",
    "- Basic limits: `\\lim_{x \\to c} f(x)`\n",
    "- Limits at infinity: `\\lim_{x \\to \\infty} f(x)`"
   ]
  },
  {
   "cell_type": "code",
   "execution_count": 6,
   "id": "0aec89b6",
   "metadata": {},
   "outputs": [
    {
     "data": {
      "text/latex": [
       "$\\displaystyle \\int_0^1 x^2 dx = \\frac{1}{3}$"
      ],
      "text/plain": [
       "<IPython.core.display.Math object>"
      ]
     },
     "metadata": {},
     "output_type": "display_data"
    },
    {
     "data": {
      "text/latex": [
       "$\\displaystyle \\int x^n dx = \\frac{x^{n+1}}{n+1} + C$"
      ],
      "text/plain": [
       "<IPython.core.display.Math object>"
      ]
     },
     "metadata": {},
     "output_type": "display_data"
    },
    {
     "data": {
      "text/latex": [
       "$\\displaystyle \\frac{d}{dx}[x^n] = nx^{n-1}$"
      ],
      "text/plain": [
       "<IPython.core.display.Math object>"
      ]
     },
     "metadata": {},
     "output_type": "display_data"
    },
    {
     "data": {
      "text/latex": [
       "$\\displaystyle \\frac{\\partial^2 f}{\\partial x \\partial y}$"
      ],
      "text/plain": [
       "<IPython.core.display.Math object>"
      ]
     },
     "metadata": {},
     "output_type": "display_data"
    },
    {
     "data": {
      "text/latex": [
       "$\\displaystyle \\lim_{x \\to \\infty} \\frac{1}{x} = 0$"
      ],
      "text/plain": [
       "<IPython.core.display.Math object>"
      ]
     },
     "metadata": {},
     "output_type": "display_data"
    }
   ],
   "source": [
    "# Calculus notation examples\n",
    "display(Math(\"\\\\int_0^1 x^2 dx = \\\\frac{1}{3}\"))  # Definite integral\n",
    "display(Math(\"\\\\int x^n dx = \\\\frac{x^{n+1}}{n+1} + C\"))  # Indefinite integral\n",
    "display(Math(\"\\\\frac{d}{dx}[x^n] = nx^{n-1}\"))  # Derivative\n",
    "display(Math(\"\\\\frac{\\\\partial^2 f}{\\\\partial x \\\\partial y}\"))  # Second-order partial derivative\n",
    "display(Math(\"\\\\lim_{x \\\\to \\\\infty} \\\\frac{1}{x} = 0\"))  # Limit at infinity"
   ]
  },
  {
   "cell_type": "markdown",
   "id": "e6a48300",
   "metadata": {},
   "source": [
    "## Set Theory and Logic Notation\n",
    "\n",
    "Set theory and mathematical logic employ standardized symbols for precise mathematical statements:\n",
    "\n",
    "**Set operations:**\n",
    "- Union: `\\cup` (∪)\n",
    "- Intersection: `\\cap` (∩)\n",
    "- Subset: `\\subset` (⊂), `\\subseteq` (⊆)\n",
    "- Element membership: `\\in` (∈), `\\notin` (∉)\n",
    "\n",
    "**Number systems:**\n",
    "- Natural numbers: `\\mathbb{N}`\n",
    "- Integers: `\\mathbb{Z}`\n",
    "- Rational numbers: `\\mathbb{Q}`\n",
    "- Real numbers: `\\mathbb{R}`\n",
    "- Complex numbers: `\\mathbb{C}`\n",
    "\n",
    "**Logic operators:**\n",
    "- Universal quantifier: `\\forall` (∀)\n",
    "- Existential quantifier: `\\exists` (∃)\n",
    "- Implication: `\\Rightarrow` (⇒)\n",
    "- Equivalence: `\\equiv` (≡)\n",
    "- Negation: `\\neg` (¬)"
   ]
  },
  {
   "cell_type": "code",
   "execution_count": null,
   "id": "5bbd4664",
   "metadata": {},
   "outputs": [
    {
     "data": {
      "text/latex": [
       "$\\displaystyle A \\cup B = \\{x : x \\in A \\text{ or } x \\in B\\}$"
      ],
      "text/plain": [
       "<IPython.core.display.Math object>"
      ]
     },
     "metadata": {},
     "output_type": "display_data"
    },
    {
     "data": {
      "text/latex": [
       "$\\displaystyle A \\cap B = \\{x : x \\in A \\text{ and } x \\in B\\}$"
      ],
      "text/plain": [
       "<IPython.core.display.Math object>"
      ]
     },
     "metadata": {},
     "output_type": "display_data"
    },
    {
     "data": {
      "text/latex": [
       "$\\displaystyle \\mathbb{N} \\subset \\mathbb{Z} \\subset \\mathbb{Q} \\subset \\mathbb{R} \\subset \\mathbb{C}$"
      ],
      "text/plain": [
       "<IPython.core.display.Math object>"
      ]
     },
     "metadata": {},
     "output_type": "display_data"
    },
    {
     "data": {
      "text/latex": [
       "$\\displaystyle \\forall x \\in \\mathbb{R}, \\exists y \\in \\mathbb{R} : y > x$"
      ],
      "text/plain": [
       "<IPython.core.display.Math object>"
      ]
     },
     "metadata": {},
     "output_type": "display_data"
    },
    {
     "data": {
      "text/latex": [
       "$\\displaystyle A \\Rightarrow B \\equiv \\neg A \\lor B$"
      ],
      "text/plain": [
       "<IPython.core.display.Math object>"
      ]
     },
     "metadata": {},
     "output_type": "display_data"
    }
   ],
   "source": [
    "# Set theory and logic examples\n",
    "display(Math(\"A \\\\cup B = \\\\{x : x \\\\in A \\\\text{ or } x \\\\in B\\\\}\"))  # Union\n",
    "display(Math(\"A \\\\cap B = \\\\{x : x \\\\in A \\\\text{ and } x \\\\in B\\\\}\"))  # Intersection\n",
    "display(Math(\"\\\\mathbb{N} \\\\subset \\\\mathbb{Z} \\\\subset \\\\mathbb{Q} \\\\subset \\\\mathbb{R} \\\\subset \\\\mathbb{C}\"))  # Number sets\n",
    "display(Math(\"\\\\forall x \\\\in \\\\mathbb{R}, \\\\exists y \\\\in \\\\mathbb{R} : y > x\"))  # Quantifiers\n",
    "display(Math(\"A \\\\Rightarrow B \\\\equiv \\\\neg A \\\\lor B\"))  # Logical implication"
   ]
  },
  {
   "cell_type": "code",
   "execution_count": null,
   "id": "500c7ee8",
   "metadata": {},
   "outputs": [
    {
     "data": {
      "text/latex": [
       "$\\displaystyle f(x) = x^{2} + 2 x + 1$"
      ],
      "text/plain": [
       "<IPython.core.display.Math object>"
      ]
     },
     "metadata": {},
     "output_type": "display_data"
    },
    {
     "data": {
      "text/latex": [
       "$\\displaystyle f(x) = \\left(x + 1\\right)^{2}$"
      ],
      "text/plain": [
       "<IPython.core.display.Math object>"
      ]
     },
     "metadata": {},
     "output_type": "display_data"
    },
    {
     "data": {
      "text/latex": [
       "$\\displaystyle f'(x) = 2 x + 2$"
      ],
      "text/plain": [
       "<IPython.core.display.Math object>"
      ]
     },
     "metadata": {},
     "output_type": "display_data"
    },
    {
     "data": {
      "text/latex": [
       "$\\displaystyle \\int f(x)dx = \\frac{x^{3}}{3} + x^{2} + x + C$"
      ],
      "text/plain": [
       "<IPython.core.display.Math object>"
      ]
     },
     "metadata": {},
     "output_type": "display_data"
    }
   ],
   "source": [
    "# SymPy symbolic mathematics\n",
    "x, y, z = sym.symbols('x y z')\n",
    "\n",
    "# Define a symbolic expression\n",
    "expr = x**2 + 2*x + 1\n",
    "display(Math(f\"f(x) = {sym.latex(expr)}\"))\n",
    "\n",
    "# Factor the expression\n",
    "factored = sym.factor(expr)\n",
    "display(Math(f\"f(x) = {sym.latex(factored)}\"))\n",
    "\n",
    "# Compute derivative\n",
    "derivative = sym.diff(expr, x)\n",
    "display(Math(f\"f'(x) = {sym.latex(derivative)}\"))\n",
    "\n",
    "# Compute integral\n",
    "integral = sym.integrate(expr, x)\n",
    "display(Math(f\"\\\\int f(x)dx = {sym.latex(integral)} + C\"))"
   ]
  },
  {
   "cell_type": "markdown",
   "id": "be259d2a",
   "metadata": {},
   "source": [
    "## Integration with SymPy\n",
    "\n",
    "SymPy provides symbolic mathematics capabilities and can generate LaTeX output from computed expressions. The `sym.latex()` function converts SymPy expressions to LaTeX strings for display.\n",
    "\n",
    "This integration enables:\n",
    "- Symbolic computation followed by formatted display\n",
    "- Automatic LaTeX generation from mathematical operations\n",
    "- Consistent notation across computational and presentation contexts\n",
    "\n",
    "The following example demonstrates basic SymPy-to-LaTeX workflow."
   ]
  },
  {
   "cell_type": "code",
   "execution_count": 26,
   "id": "c0e332fb",
   "metadata": {},
   "outputs": [
    {
     "data": {
      "text/latex": [
       "$\\displaystyle e^{i\\theta} = \\cos(\\theta) + i\\sin(\\theta)$"
      ],
      "text/plain": [
       "<IPython.core.display.Math object>"
      ]
     },
     "metadata": {},
     "output_type": "display_data"
    },
    {
     "data": {
      "text/latex": [
       "$\\displaystyle \\Gamma(n) = (n-1)!$"
      ],
      "text/plain": [
       "<IPython.core.display.Math object>"
      ]
     },
     "metadata": {},
     "output_type": "display_data"
    },
    {
     "data": {
      "text/latex": [
       "$\\displaystyle \\zeta(s) = \\sum_{n=1}^{\\infty} \\frac{1}{n^s}$"
      ],
      "text/plain": [
       "<IPython.core.display.Math object>"
      ]
     },
     "metadata": {},
     "output_type": "display_data"
    },
    {
     "data": {
      "text/latex": [
       "$\\displaystyle J_n(x) = \\sum_{m=0}^{\\infty} \\frac{(-1)^m}{m!(n+m)!} \\left(\\frac{x}{2}\\right)^{n+2m}$"
      ],
      "text/plain": [
       "<IPython.core.display.Math object>"
      ]
     },
     "metadata": {},
     "output_type": "display_data"
    },
    {
     "data": {
      "text/latex": [
       "$\\displaystyle |z|^2 = z \\cdot \\overline{z} = x^2 + y^2$"
      ],
      "text/plain": [
       "<IPython.core.display.Math object>"
      ]
     },
     "metadata": {},
     "output_type": "display_data"
    }
   ],
   "source": [
    "# Special functions and complex numbers\n",
    "display(Math(\"e^{i\\\\theta} = \\\\cos(\\\\theta) + i\\\\sin(\\\\theta)\"))  # Euler's formula\n",
    "display(Math(\"\\\\Gamma(n) = (n-1)!\"))  # Gamma function\n",
    "display(Math(\"\\\\zeta(s) = \\\\sum_{n=1}^{\\\\infty} \\\\frac{1}{n^s}\"))  # Riemann zeta function\n",
    "display(Math(\"J_n(x) = \\\\sum_{m=0}^{\\\\infty} \\\\frac{(-1)^m}{m!(n+m)!} \\\\left(\\\\frac{x}{2}\\\\right)^{n+2m}\"))  # Bessel function\n",
    "display(Math(\"|z|^2 = z \\\\cdot \\\\overline{z} = x^2 + y^2\"))  # Complex magnitude\n",
    "\n",
    "## Delving into Set Theory and Mathematical Logic\n",
    "\n",
    "The language of sets and logic forms the bedrock of mathematical reasoning. LaTeX provides a rich set of symbols for set operations (union `\\cup`, intersection `\\cap`, subset `\\subset`), quantifiers (for all `\\forall`, there exists `\\exists`), and logical operators (implication `\\Rightarrow`, equivalence `\\equiv`). Mastering these allows for the precise expression of mathematical statements and proofs."
   ]
  },
  {
   "cell_type": "markdown",
   "id": "7e92f175",
   "metadata": {},
   "source": [
    "## Special Functions and Complex Analysis\n",
    "\n",
    "Advanced mathematics employs specialized functions and complex number notation:\n",
    "\n",
    "**Special functions:**\n",
    "- Gamma function: `\\Gamma(z)`\n",
    "- Riemann zeta function: `\\zeta(s)`\n",
    "- Bessel functions: `J_n(x)`, `Y_n(x)`\n",
    "- Hypergeometric functions: `_pF_q`\n",
    "\n",
    "**Complex number notation:**\n",
    "- Standard form: `z = x + iy`\n",
    "- Modulus: `|z|`\n",
    "- Complex conjugate: `\\overline{z}` or `z^*`\n",
    "- Argument: `\\arg(z)`\n",
    "- Exponential form: `re^{i\\theta}`\n",
    "\n",
    "**Euler's formula and identities:**\n",
    "- `e^{i\\theta} = \\cos(\\theta) + i\\sin(\\theta)`\n",
    "- `e^{i\\pi} + 1 = 0`"
   ]
  },
  {
   "cell_type": "markdown",
   "id": "f1c0c80d",
   "metadata": {},
   "source": [
    "## Probability and Statistics Notation\n",
    "\n",
    "Probabilistic and statistical notation requires precise symbols to avoid ambiguity:\n",
    "\n",
    "**Probability notation:**\n",
    "- Probability: `P(A)`, `P(A|B)` for conditional probability\n",
    "- Probability density: `f(x)`, `f_{X}(x)`\n",
    "- Cumulative distribution: `F(x)`, `F_{X}(x)`\n",
    "\n",
    "**Statistical measures:**\n",
    "- Expected value: `E[X]`, `\\mathbb{E}[X]`\n",
    "- Variance: `\\text{Var}(X)`, `\\sigma^2`\n",
    "- Standard deviation: `\\sigma`, `\\text{SD}(X)`\n",
    "- Covariance: `\\text{Cov}(X,Y)`\n",
    "\n",
    "**Distribution notation:**\n",
    "- Normal distribution: `X \\sim N(\\mu, \\sigma^2)`\n",
    "- Standard normal: `Z \\sim N(0,1)`\n",
    "- Chi-squared: `\\chi^2`\n",
    "- Student's t: `t_\\nu`"
   ]
  },
  {
   "cell_type": "code",
   "execution_count": 25,
   "id": "290dbe64",
   "metadata": {},
   "outputs": [
    {
     "data": {
      "text/latex": [
       "$\\displaystyle P(A \\cap B) = P(A) \\cdot P(B|A)$"
      ],
      "text/plain": [
       "<IPython.core.display.Math object>"
      ]
     },
     "metadata": {},
     "output_type": "display_data"
    },
    {
     "data": {
      "text/latex": [
       "$\\displaystyle E[X] = \\sum_{i=1}^{n} x_i P(X = x_i)$"
      ],
      "text/plain": [
       "<IPython.core.display.Math object>"
      ]
     },
     "metadata": {},
     "output_type": "display_data"
    },
    {
     "data": {
      "text/latex": [
       "$\\displaystyle \\text{Var}(X) = E[X^2] - (E[X])^2$"
      ],
      "text/plain": [
       "<IPython.core.display.Math object>"
      ]
     },
     "metadata": {},
     "output_type": "display_data"
    },
    {
     "data": {
      "text/latex": [
       "$\\displaystyle f(x) = \\frac{1}{\\sigma\\sqrt{2\\pi}} e^{-\\frac{(x-\\mu)^2}{2\\sigma^2}}$"
      ],
      "text/plain": [
       "<IPython.core.display.Math object>"
      ]
     },
     "metadata": {},
     "output_type": "display_data"
    },
    {
     "data": {
      "text/latex": [
       "$\\displaystyle \\chi^2 = \\sum_{i=1}^{n} \\frac{(O_i - E_i)^2}{E_i}$"
      ],
      "text/plain": [
       "<IPython.core.display.Math object>"
      ]
     },
     "metadata": {},
     "output_type": "display_data"
    }
   ],
   "source": [
    "# Probability and statistics\n",
    "display(Math(\"P(A \\\\cap B) = P(A) \\\\cdot P(B|A)\"))  # Conditional probability\n",
    "display(Math(\"E[X] = \\\\sum_{i=1}^{n} x_i P(X = x_i)\"))  # Expected value\n",
    "display(Math(\"\\\\text{Var}(X) = E[X^2] - (E[X])^2\"))  # Variance\n",
    "display(Math(\"f(x) = \\\\frac{1}{\\\\sigma\\\\sqrt{2\\\\pi}} e^{-\\\\frac{(x-\\\\mu)^2}{2\\\\sigma^2}}\"))  # Normal distribution\n",
    "display(Math(\"\\\\chi^2 = \\\\sum_{i=1}^{n} \\\\frac{(O_i - E_i)^2}{E_i}\"))  # Chi-squared statistic"
   ]
  },
  {
   "cell_type": "markdown",
   "id": "500fbcdf",
   "metadata": {},
   "source": [
    "## LaTeX Best Practices\n",
    "\n",
    "Proper LaTeX formatting ensures readability and professional presentation:\n",
    "\n",
    "**1. Spacing control:**\n",
    "- Thin space: `\\,` (3/18 em)\n",
    "- Medium space: `\\:` (4/18 em)\n",
    "- Thick space: `\\;` (5/18 em)\n",
    "- Quad space: `\\quad` (1 em)\n",
    "- Double quad: `\\qquad` (2 em)\n",
    "\n",
    "**2. Delimiter sizing:**\n",
    "- Use `\\left` and `\\right` for automatic sizing\n",
    "- Applies to parentheses: `\\left( \\right)`\n",
    "- Brackets: `\\left[ \\right]`\n",
    "- Braces: `\\left\\{ \\right\\}`\n",
    "- Absolute value: `\\left| \\right|`\n",
    "\n",
    "**3. Function names:**\n",
    "- Standard functions: `\\sin`, `\\cos`, `\\log`, `\\ln`, `\\exp`\n",
    "- Custom operators: `\\operatorname{name}`\n",
    "- Upright font distinguishes functions from variables\n",
    "\n",
    "**4. Multi-line equations:**\n",
    "- Aligned equations: `\\begin{align} ... \\end{align}`\n",
    "- Equation arrays: `\\begin{eqnarray} ... \\end{eqnarray}`\n",
    "- Cases: `\\begin{cases} ... \\end{cases}`\n",
    "\n",
    "**5. Consistency principles:**\n",
    "- Maintain uniform notation throughout documents\n",
    "- Use semantic commands over formatting commands\n",
    "- Prioritize clarity over compactness"
   ]
  },
  {
   "cell_type": "code",
   "execution_count": 10,
   "id": "966bf2f3",
   "metadata": {},
   "outputs": [
    {
     "data": {
      "text/latex": [
       "$\\displaystyle \\sin(x) + \\cos(x) = \\sqrt{2}\\sin\\left(x + \\frac{\\pi}{4}\\right)$"
      ],
      "text/plain": [
       "<IPython.core.display.Math object>"
      ]
     },
     "metadata": {},
     "output_type": "display_data"
    },
    {
     "data": {
      "text/latex": [
       "$\\displaystyle \\left(\\frac{a + b}{c + d}\\right)^2$"
      ],
      "text/plain": [
       "<IPython.core.display.Math object>"
      ]
     },
     "metadata": {},
     "output_type": "display_data"
    },
    {
     "data": {
      "text/latex": [
       "$\\displaystyle f(x) = a_0 + a_1 x + a_2 x^2 + \\cdots + a_n x^n$"
      ],
      "text/plain": [
       "<IPython.core.display.Math object>"
      ]
     },
     "metadata": {},
     "output_type": "display_data"
    }
   ],
   "source": [
    "# Best practices examples\n",
    "\n",
    "# Proper function notation\n",
    "display(Math(\"\\\\sin(x) + \\\\cos(x) = \\\\sqrt{2}\\\\sin\\\\left(x + \\\\frac{\\\\pi}{4}\\\\right)\"))\n",
    "\n",
    "# Automatic parentheses sizing\n",
    "display(Math(\"\\\\left(\\\\frac{a + b}{c + d}\\\\right)^2\"))\n",
    "\n",
    "# Proper spacing in expressions\n",
    "display(Math(\"f(x) = a_0 + a_1 x + a_2 x^2 + \\\\cdots + a_n x^n\"))\n"
   ]
  },
  {
   "cell_type": "code",
   "execution_count": 21,
   "id": "500fbcdf",
   "metadata": {},
   "outputs": [
    {
     "data": {
      "text/latex": [
       "$\\displaystyle 4x + 5y - 8z = 17$"
      ],
      "text/plain": [
       "<IPython.core.display.Math object>"
      ]
     },
     "metadata": {},
     "output_type": "display_data"
    },
    {
     "data": {
      "text/latex": [
       "$\\displaystyle \\sin(2\\pi ft + \\theta)$"
      ],
      "text/plain": [
       "<IPython.core.display.Math object>"
      ]
     },
     "metadata": {},
     "output_type": "display_data"
    },
    {
     "data": {
      "text/latex": [
       "$\\displaystyle e = mc^2$"
      ],
      "text/plain": [
       "<IPython.core.display.Math object>"
      ]
     },
     "metadata": {},
     "output_type": "display_data"
    },
    {
     "data": {
      "text/latex": [
       "$\\displaystyle \\frac {4 + 5x^2} {(1 + x)(1 - x)}$"
      ],
      "text/plain": [
       "<IPython.core.display.Math object>"
      ]
     },
     "metadata": {},
     "output_type": "display_data"
    }
   ],
   "source": [
    "display(Math(\"4x + 5y - 8z = 17\"))\n",
    "display(Math(\"\\\\sin(2\\\\pi ft + \\\\theta)\"))\n",
    "display(Math(\"e = mc^2 \\\\quad \\\\text{(Einstein's mass-energy equivalence)}\"))\n",
    "display(Math(\"\\\\frac{4 + 5x^2}{(1 + x)(1 - x)}\"))\n",
    "\n",
    "display(Math(\"a_1, a_2, a_3, \\\\ldots, a_n \\\\quad \\\\text{(sequence notation)}\"))\n",
    "display(Math(\"x^2 + y^2 = z^2 \\\\quad \\\\text{(Pythagorean theorem)}\"))\n",
    "display(Math(\"e^{i\\\\pi} + 1 = 0 \\\\quad \\\\text{(Euler's identity)}\"))\n",
    "display(Math(\"\\\\sum_{k=1}^{N} k = \\\\frac{N(N+1)}{2} \\\\quad \\\\text{(arithmetic series)}\"))\n",
    "display(Math(\"\\\\Delta = b^2 - 4ac \\\\quad \\\\text{(quadratic discriminant)}\"))\n",
    "display(Math(\"\\\\frac{d}{dx} x^n = nx^{n-1} \\\\quad \\\\text{(power rule)}\"))\n",
    "display(Math(\"\\\\frac{a}{b} + \\\\frac{c}{d} = \\\\frac{ad + bc}{bd} \\\\quad \\\\text{(fraction addition)}\"))\n",
    "display(Math(\"\\\\Phi(x) = \\\\int_{-\\\\infty}^x \\\\frac{1}{\\\\sqrt{2\\\\pi}} e^{-t^2/2} dt \\\\quad \\\\text{(standard normal CDF)}\"))"
   ]
  },
  {
   "cell_type": "markdown",
   "id": "e6be0f82",
   "metadata": {},
   "source": [
    "## Comprehensive Examples\n",
    "\n",
    "This section presents a collection of mathematical expressions demonstrating various LaTeX constructs. These examples integrate multiple notation elements and illustrate common patterns in mathematical typesetting.\n",
    "\n",
    "The expressions range from elementary algebra to advanced mathematical concepts, providing practical templates for common mathematical statements."
   ]
  },
  {
   "cell_type": "markdown",
   "metadata": {},
   "source": [
    "## Summary\n",
    "\n",
    "This notebook has covered fundamental LaTeX constructs for mathematical typesetting, including:\n",
    "\n",
    "- Basic arithmetic and algebraic notation\n",
    "- Greek letters and symbolic constants\n",
    "- Subscripts, superscripts, and indexing\n",
    "- Fractions and radical expressions\n",
    "- Calculus notation (derivatives, integrals, limits)\n",
    "- Linear algebra (matrices, vectors, operations)\n",
    "- Set theory and logic symbols\n",
    "- Probability and statistics notation\n",
    "- Special functions and complex analysis\n",
    "- Formatting best practices\n",
    "\n",
    "LaTeX provides deterministic, high-quality mathematical typesetting suitable for academic and professional contexts. Mastery requires practice with these fundamental constructs and attention to formatting conventions.\n",
    "\n",
    "**Additional resources:**\n",
    "- Comprehensive LaTeX Symbol List\n",
    "- AMS-LaTeX documentation\n",
    "- Mathematical typesetting guidelines\n",
    "- LaTeX reference manuals"
   ]
  }
 ],
 "metadata": {
  "kernelspec": {
   "display_name": "math",
   "language": "python",
   "name": "python3"
  },
  "language_info": {
   "codemirror_mode": {
    "name": "ipython",
    "version": 3
   },
   "file_extension": ".py",
   "mimetype": "text/x-python",
   "name": "python",
   "nbconvert_exporter": "python",
   "pygments_lexer": "ipython3",
   "version": "3.12.8"
  }
 },
 "nbformat": 4,
 "nbformat_minor": 5
}
